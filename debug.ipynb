{
 "cells": [
  {
   "cell_type": "code",
   "execution_count": 30,
   "metadata": {},
   "outputs": [],
   "source": [
    "\n",
    "from time import sleep\n",
    "import re\n",
    "from collections import Counter\n",
    "import cv2\n",
    "import pytesseract\n",
    "import preprocessing\n",
    "\n"
   ]
  },
  {
   "cell_type": "code",
   "execution_count": 41,
   "metadata": {},
   "outputs": [],
   "source": [
    "# Path to Tesseract executable\n",
    "TESSERACT_CMD = r'C:\\Users\\james\\AppData\\Local\\Tesseract-OCR\\tesseract.exe'\n",
    "# Custom configuration for Tesseract OCR\n",
    "CUSTOM_CONFIG = r'--oem 3 --psm 6'\n",
    "\n",
    "pytesseract.pytesseract.tesseract_cmd = TESSERACT_CMD"
   ]
  },
  {
   "cell_type": "code",
   "execution_count": 117,
   "metadata": {},
   "outputs": [],
   "source": [
    "def read_once(gscale, x, refined, grayscale_modes, scale_range=5):\n",
    "    # Read the image from the saved path\n",
    "    image_path = f\"img/screenshot{x}.jpg\"\n",
    "    image = cv2.imread(image_path)\n",
    "    \n",
    "    if image is None:\n",
    "        print(f\"Failed to read image at {image_path}\")\n",
    "        return [0, 'Failed to read image']\n",
    "    \n",
    "    scale = grayscale_modes[gscale]\n",
    "    print(f'Testing {scale} scale')\n",
    "    gray = cv2.cvtColor(image, scale)\n",
    "    noise = preprocessing.remove_noise(gray)\n",
    "    canny = preprocessing.canny(noise)\n",
    "    thresh = preprocessing.thresholding(canny)\n",
    "\n",
    "    # Extract text from the processed image using Tesseract OCR\n",
    "    text = pytesseract.image_to_string(thresh, config=CUSTOM_CONFIG)\n",
    "    text = re.sub(r'\\D', '', text)\n",
    "    value = int(text) if text else 0\n",
    "    print(value)\n",
    "    refined.append(value)\n",
    "\n",
    "    # Frequency calculation after all grayscale modes have been tested\n",
    "    frequency = Counter(refined).most_common()\n",
    "    most_common_value = frequency[0][0]\n",
    "\n",
    "    # Retry with different grayscale modes if value is less than 1000 or greater than 10000\n",
    "    if (most_common_value < 1000 or most_common_value > 10000) and gscale < scale_range - 1:\n",
    "        return read_once(gscale + 1, x, refined, grayscale_modes, scale_range)\n",
    "    \n",
    "    return [most_common_value, 'Success' if gscale == 0 else 'Reviewed']"
   ]
  },
  {
   "cell_type": "code",
   "execution_count": null,
   "metadata": {},
   "outputs": [],
   "source": [
    "grayscale_modes = [cv2.COLOR_BGR2Luv, cv2.COLOR_BGR2Lab, cv2.COLOR_BGR2XYZ, cv2.COLOR_BGR2GRAY, cv2.COLOR_RGB2LUV]\n",
    "for x in range (1,26):\n",
    "    scale_range = len(grayscale_modes)\n",
    "    refined = []\n",
    "    print(read_once(0, x, refined, grayscale_modes, scale_range))"
   ]
  }
 ],
 "metadata": {
  "kernelspec": {
   "display_name": "Python 3",
   "language": "python",
   "name": "python3"
  },
  "language_info": {
   "codemirror_mode": {
    "name": "ipython",
    "version": 3
   },
   "file_extension": ".py",
   "mimetype": "text/x-python",
   "name": "python",
   "nbconvert_exporter": "python",
   "pygments_lexer": "ipython3",
   "version": "3.12.3"
  }
 },
 "nbformat": 4,
 "nbformat_minor": 2
}
