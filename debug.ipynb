{
 "cells": [
  {
   "cell_type": "code",
   "execution_count": 3,
   "metadata": {},
   "outputs": [],
   "source": [
    "# IMPORTS\n",
    "\n",
    "# Selenium\n",
    "from selenium import webdriver\n",
    "from selenium.webdriver.common.by import By\n",
    "from selenium.webdriver.common.keys import Keys\n",
    "from selenium.webdriver.support.ui import WebDriverWait\n",
    "from selenium.webdriver import ActionChains\n",
    "from selenium.webdriver.common.actions.wheel_input import ScrollOrigin\n",
    "from selenium.webdriver.support.expected_conditions import presence_of_element_located\n",
    "\n",
    "import numpy as np\n",
    "from time import sleep\n",
    "\n",
    "import pyscreenshot as ImageGrab\n",
    "\n",
    "import cv2\n",
    "import pytesseract\n",
    "\n",
    "import re\n"
   ]
  },
  {
   "cell_type": "code",
   "execution_count": 31,
   "metadata": {},
   "outputs": [
    {
     "name": "stdout",
     "output_type": "stream",
     "text": [
      "Artes e entretenimento\n",
      "Second collection\n",
      "X1: 362, Y1: 420\n",
      "X2: 918, Y2: 516\n",
      "Automóveis e veículos\n",
      "Second collection\n",
      "X1: 362, Y1: 420\n",
      "X2: 918, Y2: 516\n"
     ]
    }
   ],
   "source": [
    "with webdriver.Firefox() as driver:\n",
    "    driver.get(\"https://adsense.google.com/start/#calculator\")\n",
    "    wait = WebDriverWait(driver, 5)\n",
    "    \n",
    "    driver.find_element(By.XPATH, \"/html/body/main/section[6]/div/div[2]/div/div[1]/div/button\").click()\n",
    "    \n",
    "    # Selection int variable\n",
    "    option = 2\n",
    "    \n",
    "    # 1 - North America\n",
    "    # 2 - South America\n",
    "    # 3 - Europe, Middle East and Africa\n",
    "    # 4 - Asia and Pacific countries\n",
    "    \n",
    "    driver.find_element(By.XPATH, f\"/html/body/main/section[6]/div/div[2]/div/div[1]/div/div/ul/li[{option}]/button\").click()\n",
    "    \n",
    "    for secondOption in range(1, 3):\n",
    "\n",
    "        # Select the second ComboBox\n",
    "        driver.find_element(By.XPATH, \"/html/body/main/section[6]/div/div[2]/div/div[2]/div/button\").click()\n",
    "\n",
    "        # Select option in ComboBox\n",
    "        category = driver.find_element(By.XPATH, f\"/html/body/main/section[6]/div/div[2]/div/div[2]/div/div/ul/li[{secondOption}]/button\")\n",
    "        \n",
    "        # Category name extraction\n",
    "        categoryName = category.text\n",
    "        print(categoryName)\n",
    "        category.click()\n",
    "\n",
    "        # Calculate\n",
    "        driver.find_element(By.XPATH, \"/html/body/main/section[6]/div/div[2]/button\").click()\n",
    "\n",
    "        # Y 1500 = Calculator section\n",
    "        # Y 2000 = Result view\n",
    "        driver.execute_script(\"window.scrollTo(0, 2000)\")\n",
    "\n",
    "        resultRow = driver.find_element(By.XPATH, \"/html/body/main/section[6]/div/div[3]/div[3]/div[1]\")\n",
    "        location = resultRow.location\n",
    "        xl, yl = location['x'], location['y']\n",
    "\n",
    "        size = resultRow.size\n",
    "        w, h = size['width'], size['height']\n",
    "\n",
    "        x1 = int(xl+60)\n",
    "        x2 = int((xl+w)-60)\n",
    "        y1 = int(yl-1900)\n",
    "        y2 = int((yl-h)-1700)\n",
    "\n",
    "        print(\"Second collection\")\n",
    "        print(f\"X1: {x1}, Y1: {y1}\\nX2: {x2}, Y2: {y2}\")\n",
    "        image = ImageGrab.grab(bbox=(x1,y1,x2,y2))\n",
    "        image.save('img/screenshot1.jpg', 'jpeg')\n",
    "\n",
    "        # Little pause for visualization\n",
    "        sleep(1)\n",
    "\n",
    "        # Scroll back\n",
    "        driver.execute_script(\"window.scrollTo(0, 1500)\")\n",
    "        sleep(1)\n",
    "\n",
    "        driver.find_element(By.XPATH, \"/html/body/main/section[6]/div/div[3]/button\").click()\n",
    "        \n",
    "        \n",
    "\n",
    "    "
   ]
  },
  {
   "cell_type": "code",
   "execution_count": 25,
   "metadata": {},
   "outputs": [
    {
     "name": "stdout",
     "output_type": "stream",
     "text": [
      "3372, <class 'int'>\n",
      "5520, <class 'int'>\n",
      "14010, <class 'int'>\n",
      "4428, <class 'int'>\n",
      "8598, <class 'int'>\n",
      "8400, <class 'int'>\n",
      "5508, <class 'int'>\n",
      "6528, <class 'int'>\n",
      "10998, <class 'int'>\n",
      "7806, <class 'int'>\n",
      "7422, <class 'int'>\n",
      "2538, <class 'int'>\n",
      "19278, <class 'int'>\n",
      "6618, <class 'int'>\n",
      "8700, <class 'int'>\n",
      "8730, <class 'int'>\n",
      "2622, <class 'int'>\n",
      "7698, <class 'int'>\n",
      "3246, <class 'int'>\n",
      "2022, <class 'int'>\n",
      "5202, <class 'int'>\n",
      "5046, <class 'int'>\n",
      "6714, <class 'int'>\n",
      "10440, <class 'int'>\n",
      "8460, <class 'int'>\n"
     ]
    }
   ],
   "source": [
    "# TEXT EXTRACTION FROM IMAGE\n",
    "for i in range (1, 26):\n",
    "    image = cv2.imread(f\"img/screenshot{i}.jpg\")\n",
    "    gray = cv2.cvtColor(image, cv2.COLOR_LBGR2Lab)\n",
    "\n",
    "    pytesseract.pytesseract.tesseract_cmd = r'C:\\Users\\james\\AppData\\Local\\Tesseract-OCR\\tesseract.exe'\n",
    "    text = pytesseract.image_to_string(gray)\n",
    "    text = re.sub(r'\\D','', text)\n",
    "    value = int(text)\n",
    "\n",
    "    print(f'{text}, {type(value)}')"
   ]
  },
  {
   "cell_type": "code",
   "execution_count": null,
   "metadata": {},
   "outputs": [],
   "source": [
    "# Creating the data matrix\n",
    "\n",
    "data_array = np.array(['Category','Value'])"
   ]
  }
 ],
 "metadata": {
  "kernelspec": {
   "display_name": "Python 3",
   "language": "python",
   "name": "python3"
  },
  "language_info": {
   "codemirror_mode": {
    "name": "ipython",
    "version": 3
   },
   "file_extension": ".py",
   "mimetype": "text/x-python",
   "name": "python",
   "nbconvert_exporter": "python",
   "pygments_lexer": "ipython3",
   "version": "3.12.3"
  }
 },
 "nbformat": 4,
 "nbformat_minor": 2
}
